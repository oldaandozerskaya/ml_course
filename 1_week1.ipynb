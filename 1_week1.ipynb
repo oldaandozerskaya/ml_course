{
  "nbformat": 4,
  "nbformat_minor": 0,
  "metadata": {
    "colab": {
      "name": "Untitled6.ipynb",
      "provenance": [],
      "authorship_tag": "ABX9TyM7q7tMLf7SMLB+6V98XuHg",
      "include_colab_link": true
    },
    "kernelspec": {
      "name": "python3",
      "display_name": "Python 3"
    }
  },
  "cells": [
    {
      "cell_type": "markdown",
      "metadata": {
        "id": "view-in-github",
        "colab_type": "text"
      },
      "source": [
        "<a href=\"https://colab.research.google.com/github/oldaandozerskaya/ml_course/blob/master/1_week1.ipynb\" target=\"_parent\"><img src=\"https://colab.research.google.com/assets/colab-badge.svg\" alt=\"Open In Colab\"/></a>"
      ]
    },
    {
      "cell_type": "code",
      "metadata": {
        "id": "sN0CraJEcqHC",
        "colab_type": "code",
        "colab": {
          "base_uri": "https://localhost:8080/",
          "height": 129
        },
        "outputId": "6046dc6f-5c52-4094-ea2b-7abe501cb1a7"
      },
      "source": [
        "from google.colab import drive\n",
        "drive.mount('/content/drive')"
      ],
      "execution_count": 1,
      "outputs": [
        {
          "output_type": "stream",
          "text": [
            "Go to this URL in a browser: https://accounts.google.com/o/oauth2/auth?client_id=947318989803-6bn6qk8qdgf4n4g3pfee6491hc0brc4i.apps.googleusercontent.com&redirect_uri=urn%3aietf%3awg%3aoauth%3a2.0%3aoob&response_type=code&scope=email%20https%3a%2f%2fwww.googleapis.com%2fauth%2fdocs.test%20https%3a%2f%2fwww.googleapis.com%2fauth%2fdrive%20https%3a%2f%2fwww.googleapis.com%2fauth%2fdrive.photos.readonly%20https%3a%2f%2fwww.googleapis.com%2fauth%2fpeopleapi.readonly\n",
            "\n",
            "Enter your authorization code:\n",
            "··········\n",
            "Mounted at /content/drive\n"
          ],
          "name": "stdout"
        }
      ]
    },
    {
      "cell_type": "code",
      "metadata": {
        "id": "ZQ6p3oLidfb-",
        "colab_type": "code",
        "colab": {
          "base_uri": "https://localhost:8080/",
          "height": 35
        },
        "outputId": "6d67a2af-54b7-47f0-d513-399a0e91661c"
      },
      "source": [
        "path='/content/drive/My Drive/_3a8d746cf4d86fba2f31586f239d11fd_sentences.txt'\n",
        "with open(path, 'r') as ff:\n",
        "  lines=ff.readlines()\n",
        "lines=[l.lower().replace('\\n','') for l in lines]\n",
        "lines[0]"
      ],
      "execution_count": 2,
      "outputs": [
        {
          "output_type": "execute_result",
          "data": {
            "text/plain": [
              "'in comparison to dogs, cats have not undergone major changes during the domestication process.'"
            ]
          },
          "metadata": {
            "tags": []
          },
          "execution_count": 2
        }
      ]
    },
    {
      "cell_type": "code",
      "metadata": {
        "id": "3dorrwV-dwZy",
        "colab_type": "code",
        "colab": {}
      },
      "source": [
        "import re\n",
        "\n",
        "lines = [re.split('[^a-z]', t) for t in lines]\n",
        "\n",
        "new_lines=[]\n",
        "for line in lines:\n",
        "  new_line=[]\n",
        "  for word in line:\n",
        "    if word!='':\n",
        "      new_line.append(word)\n",
        "  new_lines.append(new_line)"
      ],
      "execution_count": 3,
      "outputs": []
    },
    {
      "cell_type": "code",
      "metadata": {
        "id": "KfMVh-o6Fwir",
        "colab_type": "code",
        "colab": {}
      },
      "source": [
        "import numpy as np\n",
        "words=set()\n",
        "\n",
        "for l in new_lines:\n",
        "  for w in l:\n",
        "    words.add(w)\n",
        "\n",
        "indices=np.arange(len(words))"
      ],
      "execution_count": 4,
      "outputs": []
    },
    {
      "cell_type": "code",
      "metadata": {
        "id": "FuRZSNbQGeq2",
        "colab_type": "code",
        "colab": {}
      },
      "source": [
        "dictionary = dict(zip(indices, list(words)))\n",
        "dictionary_ = dict(zip(list(words), indices))"
      ],
      "execution_count": 5,
      "outputs": []
    },
    {
      "cell_type": "code",
      "metadata": {
        "id": "ZFs_vrhbGwY3",
        "colab_type": "code",
        "colab": {
          "base_uri": "https://localhost:8080/",
          "height": 35
        },
        "outputId": "0d9a008e-956f-47c9-c72d-dc82661d3f4c"
      },
      "source": [
        "matrix=np.zeros((len(new_lines),len(dictionary)))\n",
        "matrix.shape"
      ],
      "execution_count": 6,
      "outputs": [
        {
          "output_type": "execute_result",
          "data": {
            "text/plain": [
              "(22, 254)"
            ]
          },
          "metadata": {
            "tags": []
          },
          "execution_count": 6
        }
      ]
    },
    {
      "cell_type": "code",
      "metadata": {
        "id": "hanFbjxaIlHA",
        "colab_type": "code",
        "colab": {
          "base_uri": "https://localhost:8080/",
          "height": 293
        },
        "outputId": "70e9a3c5-6f17-4669-84fd-87df067a594e"
      },
      "source": [
        "for i in range(len(new_lines)):#для каждого предложения\n",
        "  for word in new_lines[i]:\n",
        "    matrix[i][dictionary_[word]]+=1\n",
        "matrix[0]"
      ],
      "execution_count": 16,
      "outputs": [
        {
          "output_type": "execute_result",
          "data": {
            "text/plain": [
              "array([0., 0., 0., 0., 0., 0., 0., 0., 0., 0., 0., 1., 0., 0., 0., 0., 0.,\n",
              "       0., 0., 0., 0., 0., 0., 0., 0., 0., 0., 0., 0., 0., 0., 0., 0., 0.,\n",
              "       0., 0., 0., 0., 0., 0., 0., 0., 0., 0., 0., 0., 0., 0., 0., 0., 1.,\n",
              "       0., 1., 1., 0., 0., 0., 0., 0., 0., 0., 0., 0., 0., 0., 0., 0., 0.,\n",
              "       0., 0., 0., 0., 0., 0., 0., 0., 0., 0., 0., 0., 0., 0., 0., 0., 0.,\n",
              "       0., 0., 0., 0., 0., 0., 0., 0., 0., 0., 0., 0., 0., 0., 0., 0., 0.,\n",
              "       0., 0., 0., 0., 0., 0., 0., 0., 0., 0., 0., 0., 0., 0., 0., 0., 0.,\n",
              "       1., 0., 0., 0., 0., 0., 0., 0., 0., 0., 0., 0., 0., 0., 0., 1., 0.,\n",
              "       0., 0., 0., 0., 1., 0., 1., 0., 0., 0., 0., 0., 0., 0., 0., 0., 0.,\n",
              "       1., 0., 0., 0., 0., 0., 0., 0., 0., 0., 0., 1., 0., 0., 0., 0., 0.,\n",
              "       0., 0., 0., 0., 0., 0., 0., 0., 0., 0., 0., 0., 0., 0., 0., 0., 0.,\n",
              "       0., 0., 0., 0., 0., 0., 0., 1., 0., 0., 0., 0., 0., 0., 0., 0., 0.,\n",
              "       0., 0., 0., 0., 0., 0., 0., 0., 0., 0., 0., 0., 0., 0., 0., 0., 0.,\n",
              "       0., 0., 0., 0., 0., 0., 0., 0., 0., 0., 0., 1., 0., 0., 1., 0., 0.,\n",
              "       0., 0., 0., 0., 0., 0., 0., 0., 0., 0., 1., 0., 0., 0., 0., 0.])"
            ]
          },
          "metadata": {
            "tags": []
          },
          "execution_count": 16
        }
      ]
    },
    {
      "cell_type": "code",
      "metadata": {
        "id": "Hk02TPX9oK2i",
        "colab_type": "code",
        "colab": {
          "base_uri": "https://localhost:8080/",
          "height": 937
        },
        "outputId": "f6289a89-44a6-44ae-c112-5d3ba9277cb0"
      },
      "source": [
        "r1=1000\n",
        "r2=1000\n",
        "num1=0\n",
        "num2=0\n",
        "\n",
        "import scipy\n",
        "from scipy.spatial.distance import cosine\n",
        "\n",
        "for i in range(1, len(matrix)):\n",
        "  rasst=scipy.spatial.distance.cosine(matrix[0],matrix[i])\n",
        "  print(i)\n",
        "  print(rasst)\n",
        "  if rasst<r1:\n",
        "    r2=r1\n",
        "    num2=num1\n",
        "    r1=rasst\n",
        "    num1=i\n",
        "  elif rasst<r2:\n",
        "    r2=rasst\n",
        "    num2=i\n",
        "\n",
        "print('***')\n",
        "print(r1)\n",
        "print(r2)\n",
        "print(num1)\n",
        "print(num2)\n",
        "print(new_lines[num1])\n",
        "print(new_lines[num2])"
      ],
      "execution_count": 25,
      "outputs": [
        {
          "output_type": "stream",
          "text": [
            "1\n",
            "0.9527544408738466\n",
            "2\n",
            "0.8644738145642124\n",
            "3\n",
            "0.8951715163278082\n",
            "4\n",
            "0.7770887149698589\n",
            "5\n",
            "0.9402385695332803\n",
            "6\n",
            "0.7327387580875756\n",
            "7\n",
            "0.9258750683338899\n",
            "8\n",
            "0.8842724875284311\n",
            "9\n",
            "0.9055088817476932\n",
            "10\n",
            "0.8328165362273942\n",
            "11\n",
            "0.8804771390665607\n",
            "12\n",
            "0.8396432548525454\n",
            "13\n",
            "0.8703592552895671\n",
            "14\n",
            "0.8740118423302576\n",
            "15\n",
            "0.9442721787424647\n",
            "16\n",
            "0.8406361854220809\n",
            "17\n",
            "0.956644501523794\n",
            "18\n",
            "0.9442721787424647\n",
            "19\n",
            "0.8885443574849294\n",
            "20\n",
            "0.8427572744917122\n",
            "21\n",
            "0.8250364469440588\n",
            "***\n",
            "0.7327387580875756\n",
            "0.7770887149698589\n",
            "6\n",
            "4\n",
            "['domestic', 'cats', 'are', 'similar', 'in', 'size', 'to', 'the', 'other', 'members', 'of', 'the', 'genus', 'felis', 'typically', 'weighing', 'between', 'and', 'kg', 'and', 'lb']\n",
            "['in', 'one', 'people', 'deliberately', 'tamed', 'cats', 'in', 'a', 'process', 'of', 'artificial', 'selection', 'as', 'they', 'were', 'useful', 'predators', 'of', 'vermin']\n"
          ],
          "name": "stdout"
        }
      ]
    },
    {
      "cell_type": "code",
      "metadata": {
        "id": "5QfEdttyYfMk",
        "colab_type": "code",
        "colab": {
          "base_uri": "https://localhost:8080/",
          "height": 320
        },
        "outputId": "a222adfe-d1e3-4f5f-84dc-8445a07f058b"
      },
      "source": [
        "import numpy as np\n",
        "import math\n",
        "import matplotlib.pyplot as plt\n",
        "%matplotlib inline\n",
        "from numpy import linalg as LA\n",
        "\n",
        "n=1\n",
        "def mnogochlen(x1, y1):\n",
        "  res = LA.solve(x1, y1)\n",
        "  return res\n",
        "\n",
        "def func(x):\n",
        "  return math.sin(x/5.0)*math.exp(x/10.0)+5*math.exp(-x/2.0)\n",
        "\n",
        "def getxy(coef):\n",
        "  x=np.arange(1,16)\n",
        "  y=[coef[0]*x1*x1*x1+coef[1]*x1*x1+coef[2]*x1+coef[3] for x1 in x]\n",
        "  return x,y\n",
        "\n",
        "print(func(1))\n",
        "print(func(15))\n",
        "\n",
        "x=np.arange(1,16)\n",
        "y=[func(x1) for x1 in x]\n",
        "\n",
        "x1=np.array([[1.,1.,1.,1.], [64.,16.,4.,1.],[1000.,100.,10.,1.],[3375.,225.,15.,1.]]) \n",
        "#x1=np.array([[1.,1.,1.,1.], [1.,4.,16.,64.],[1.,10.,100.,1000.],[1.,15.,225.,3375.]])\n",
        "y1=np.array([func(1), func(4), func(10), func(15)])\n",
        "\n",
        "print(mnogochlen(x1, y1))\n",
        "# Построение графика\n",
        "plt.plot(x, y)  # построение графика\n",
        "\n",
        "x2,y2=getxy(mnogochlen(x1, y1))\n",
        "plt.plot(x2,y2)\n",
        "plt.show()"
      ],
      "execution_count": 26,
      "outputs": [
        {
          "output_type": "stream",
          "text": [
            "3.252216865271419\n",
            "0.6352214195786656\n",
            "[-0.00823565  0.19333685 -1.29552587  4.36264154]\n"
          ],
          "name": "stdout"
        },
        {
          "output_type": "display_data",
          "data": {
            "image/png": "[encoded data removed]",
            "text/plain": [
              "<Figure size 432x288 with 1 Axes>"
            ]
          },
          "metadata": {
            "tags": [],
            "needs_background": "light"
          }
        }
      ]
    }
  ]
}